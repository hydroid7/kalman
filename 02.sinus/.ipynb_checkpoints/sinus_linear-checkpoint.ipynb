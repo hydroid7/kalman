{
 "cells": [
  {
   "cell_type": "code",
   "execution_count": null,
   "metadata": {},
   "outputs": [],
   "source": [
    "using Distributions, Compat, Plots, Random, CSV, DataFrames, GLM, Printf\n",
    "upscale = 1\n",
    "default(line = (:steppre, 0.5, 1, 2), size=(800*upscale,600*upscale))\n",
    "if isdefined(Main, :IJulia) && Main.IJulia.inited\n",
    "    default(dpi = 100)\n",
    "else\n",
    "    default(dpi = 350)\n",
    "end"
   ]
  },
  {
   "cell_type": "code",
   "execution_count": null,
   "metadata": {},
   "outputs": [],
   "source": [
    "include(\"../KalmanFilter.jl\")\n",
    "import .KalmanFilter"
   ]
  },
  {
   "cell_type": "markdown",
   "metadata": {},
   "source": [
    "### Daten für die folgende Experimente"
   ]
  },
  {
   "cell_type": "code",
   "execution_count": null,
   "metadata": {},
   "outputs": [],
   "source": [
    "data_scale = 0.1\n",
    "x = collect(0:data_scale:10)\n",
    "y = sin.(x)\n",
    "n = Normal(0, 0.1)\n",
    "y_measurement = map(x -> x - rand(n), y)\n",
    "plot(x, y_measurement, ylim = (-2, 2), label = \"Generierte Daten mit Rauschen\")\n",
    "plot!(x, y, label = \"Daten ohne Rauschen\")\n",
    "plot!(x, abs.(y - y_measurement), label = \"Messfehler\", linestyle = :dot, line = :steppre)"
   ]
  },
  {
   "cell_type": "code",
   "execution_count": null,
   "metadata": {},
   "outputs": [],
   "source": [
    "function calculate_error(y_1, y_2)\n",
    "    sum(abs.(y_1 - y_2))\n",
    "end\n",
    "\n",
    "calculate_error(y, y_measurement)"
   ]
  },
  {
   "cell_type": "markdown",
   "metadata": {},
   "source": [
    "---\n",
    "### Experiment: Filterung reiner Sinus Werte\n",
    "Wir versuchen, nur das original Signal zu verfolgen, also diese ohne Rauschen."
   ]
  },
  {
   "cell_type": "code",
   "execution_count": null,
   "metadata": {},
   "outputs": [],
   "source": [
    "A = 1 # Zustandsübergangsmatrix\n",
    "G = 1 # Messabbildung Matrix\n",
    "Q = .8\n",
    "R = 0.5\n",
    "\n",
    "x̂_0 = 0\n",
    "# x̂_0 = f(1)\n",
    "Σ_0 = 0.5\n",
    "\n",
    "model = KalmanFilter.Kalman(A, Q, G, R, x̂_0, Σ_0)\n",
    "\n",
    "y_filtered = zeros(length(x))\n",
    "y_predicted = zeros(length(x))\n",
    "for (index, value) in enumerate(x)\n",
    "    y_cur = y[index]\n",
    "    y_filtered[index] = KalmanFilter.fusion(model, y_cur).state\n",
    "    y_predicted[index] = KalmanFilter.predict(model).state\n",
    "    #@printf \"Step %4d    y_m %.3f    filtered %.3f    predicted %.3f    gain %.3f\\n\" index y_cur y_filtered[index] y_predicted[index] KalmanFilter.K(model)\n",
    "end\n",
    "\n",
    "plot(x, y_predicted, label = \"Predicted\")\n",
    "plot!(x, y_filtered, label = \"Filtered\", linestyle=:dash)\n",
    "plot!(x, y, label = \"Ground Thruth\", linestyle=:dot)"
   ]
  },
  {
   "cell_type": "markdown",
   "metadata": {},
   "source": [
    "#### Ergebnisse"
   ]
  },
  {
   "cell_type": "code",
   "execution_count": null,
   "metadata": {},
   "outputs": [],
   "source": [
    "@show calculate_error(y, y_filtered)\n",
    "@show calculate_error(y, y_measurement)"
   ]
  },
  {
   "cell_type": "markdown",
   "metadata": {},
   "source": [
    "---\n",
    "### Experiment: Filterung sinus mit Rauschen\n",
    "\n",
    "Wir versuchen das Originale Signal herzustellen und lassen den Kalman Filter über das Datensatz mit rauschen laufen."
   ]
  },
  {
   "cell_type": "code",
   "execution_count": null,
   "metadata": {
    "scrolled": false
   },
   "outputs": [],
   "source": [
    "A = 1 # Zustandsübergangsmatrix\n",
    "G = 1 # Messabbildung Matrix\n",
    "Q = .8\n",
    "R = 1\n",
    "\n",
    "x̂_0 = 0\n",
    "# x̂_0 = f(1)\n",
    "Σ_0 = 0.5\n",
    "\n",
    "model = KalmanFilter.Kalman(A, Q, G, R, x̂_0, Σ_0)\n",
    "\n",
    "y_filtered = zeros(length(x))\n",
    "y_predicted = zeros(length(x))\n",
    "for (index, value) in enumerate(x)\n",
    "    y_cur = y_measurement[index]\n",
    "    y_filtered[index] = KalmanFilter.fusion(model, y_cur).state\n",
    "    y_predicted[index] = KalmanFilter.predict(model).state\n",
    "    #@printf \"Step %4d    y_m %.3f    filtered %.3f    predicted %.3f    gain %.3f\\n\" index y_cur y_filtered[index] y_predicted[index] KalmanFilter.K(model)\n",
    "end\n",
    "\n",
    "plot(x, y_predicted, label = \"Predicted\")\n",
    "plot!(x, y_filtered, label = \"Filtered\", linestyle=:dash)\n",
    "plot!(x, y_measurement, label = \"Measurement\")\n",
    "plot!(x, y, label = \"Ground Thruth\", linestyle=:dot)"
   ]
  },
  {
   "cell_type": "markdown",
   "metadata": {},
   "source": [
    "#### Ergebnisse"
   ]
  },
  {
   "cell_type": "code",
   "execution_count": null,
   "metadata": {},
   "outputs": [],
   "source": [
    "@show calculate_error(y, y_measurement)\n",
    "@show calculate_error(y, y_filtered)"
   ]
  },
  {
   "cell_type": "markdown",
   "metadata": {},
   "source": [
    "#### Ergebnis"
   ]
  },
  {
   "cell_type": "markdown",
   "metadata": {},
   "source": [
    "---\n",
    "### Experiment: Sinus Werte ohne Rauschen mit Steuerungssignal\n",
    "Wir lassen den Kalman Filter über reiner Sinus laufen, verwenden aber ein Steuerungssignal."
   ]
  },
  {
   "cell_type": "code",
   "execution_count": null,
   "metadata": {},
   "outputs": [],
   "source": [
    "A = 1 # Zustandsübergangsmatrix\n",
    "G = 1 # Messabbildung Matrix\n",
    "Q = .8\n",
    "R = 0.5\n",
    "B = 0.01\n",
    "x̂_0 = 0\n",
    "# x̂_0 = f(1)\n",
    "Σ_0 = 0.5\n",
    "\n",
    "model = KalmanFilter.Kalman(A, Q, G, R, x̂_0, Σ_0, B, 1)\n",
    "\n",
    "y_filtered = zeros(length(x))\n",
    "y_predicted = zeros(length(x))\n",
    "for (index, value) in enumerate(x)\n",
    "    y_cur = y[index]\n",
    "    y_filtered[index] = KalmanFilter.fusion(model, y_cur).state\n",
    "    y_predicted[index] = KalmanFilter.predict(model, sin(value)).state\n",
    "    #@printf \"Step %4d    y_m %.3f    filtered %.3f    predicted %.3f    gain %.3f\\n\" index y_cur y_filtered[index] y_predicted[index] KalmanFilter.K(model)\n",
    "end\n",
    "\n",
    "plot(x, y_predicted, label = \"Predicted\")\n",
    "plot!(x, y_filtered, label = \"Filtered\", linestyle=:dash)\n",
    "plot!(x, y, label = \"Ground Thruth\", linestyle=:dot)"
   ]
  },
  {
   "cell_type": "markdown",
   "metadata": {},
   "source": [
    "#### Ergebnis\n"
   ]
  },
  {
   "cell_type": "code",
   "execution_count": null,
   "metadata": {},
   "outputs": [],
   "source": [
    "@show calculate_error(y, y_measurement)\n",
    "@show calculate_error(y, y_filtered)"
   ]
  },
  {
   "cell_type": "markdown",
   "metadata": {},
   "source": [
    "---\n",
    "### Experiment: Sinus Werte mit Rauschen und Steuerungssignal"
   ]
  },
  {
   "cell_type": "code",
   "execution_count": null,
   "metadata": {},
   "outputs": [],
   "source": [
    "A = 1 # Zustandsübergangsmatrix\n",
    "G = 1 # Messabbildung Matrix\n",
    "Q = .2\n",
    "R = 1\n",
    "B = sin\n",
    "x̂_0 = 0\n",
    "# x̂_0 = f(1)\n",
    "Σ_0 = 0.5\n",
    "\n",
    "model = KalmanFilter.Kalman(A, Q, G, R, x̂_0, Σ_0)\n",
    "\n",
    "y_filtered = zeros(length(x))\n",
    "y_predicted = zeros(length(x))\n",
    "for (index, value) in enumerate(x)\n",
    "    y_cur = y_measurement[index]\n",
    "    y_filtered[index] = KalmanFilter.fusion(model, y_cur).state\n",
    "    y_predicted[index] = KalmanFilter.predict(model).state\n",
    "    #@printf \"Step %4d    y_m %.3f    filtered %.3f    predicted %.3f    gain %.3f\\n\" index y_cur y_filtered[index] y_predicted[index] KalmanFilter.K(model)\n",
    "end\n",
    "\n",
    "plot(x, y_predicted, label = \"Predicted\")\n",
    "plot(x, y_filtered, label = \"Filtered\", linestyle=:dash)\n",
    "#plot!(x, y_measurement, label = \"Measurement\")\n",
    "plot!(x, y, label = \"Ground Thruth\", linestyle=:dot)"
   ]
  },
  {
   "cell_type": "code",
   "execution_count": null,
   "metadata": {},
   "outputs": [],
   "source": [
    "@show calculate_error(y, y_measurement)\n",
    "@show calculate_error(y, y_filtered)"
   ]
  }
 ],
 "metadata": {
  "kernelspec": {
   "display_name": "Julia 1.0.3",
   "language": "julia",
   "name": "julia-1.0"
  },
  "language_info": {
   "file_extension": ".jl",
   "mimetype": "application/julia",
   "name": "julia",
   "version": "1.0.3"
  }
 },
 "nbformat": 4,
 "nbformat_minor": 2
}
