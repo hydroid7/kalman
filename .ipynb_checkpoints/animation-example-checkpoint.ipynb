{
 "cells": [
  {
   "cell_type": "markdown",
   "metadata": {},
   "source": [
    "# MeshCat Animations\n",
    "\n",
    "MeshCat.jl also provides an animation interface, built on top of the [three.js animation system](https://threejs.org/docs/#manual/introduction/Animation-system). While it is possible to construct animation clips and tracks manually, just as you would in Three.js, it's generally easier to use the MeshCat `Animation` type.\n",
    "\n",
    "Let's show off building a simple animation. We first have to create our scene: "
   ]
  },
  {
   "cell_type": "code",
   "execution_count": null,
   "metadata": {
    "scrolled": true
   },
   "outputs": [
    {
     "name": "stderr",
     "output_type": "stream",
     "text": [
      "\u001b[1m\u001b[36mINFO: \u001b[39m\u001b[22m\u001b[36mCloning cache of AssetRegistry from https://github.com/JuliaGizmos/AssetRegistry.jl.git\n",
      "\u001b[39m\u001b[1m\u001b[36mINFO: \u001b[39m\u001b[22m\u001b[36mCloning cache of BinDeps from https://github.com/JuliaPackaging/BinDeps.jl.git\n",
      "\u001b[39m\u001b[1m\u001b[36mINFO: \u001b[39m\u001b[22m\u001b[36mCloning cache of ColorTypes from https://github.com/JuliaGraphics/ColorTypes.jl.git\n",
      "\u001b[39m\u001b[1m\u001b[36mINFO: \u001b[39m\u001b[22m\u001b[36mCloning cache of Colors from https://github.com/JuliaGraphics/Colors.jl.git\n",
      "\u001b[39m\u001b[1m\u001b[36mINFO: \u001b[39m\u001b[22m\u001b[36mCloning cache of CoordinateTransformations from https://github.com/FugroRoames/CoordinateTransformations.jl.git\n",
      "\u001b[39m\u001b[1m\u001b[36mINFO: \u001b[39m\u001b[22m\u001b[36mCloning cache of DataStructures from https://github.com/JuliaCollections/DataStructures.jl.git\n",
      "\u001b[39m\u001b[1m\u001b[36mINFO: \u001b[39m\u001b[22m\u001b[36mCloning cache of DocStringExtensions from https://github.com/JuliaDocs/DocStringExtensions.jl.git\n",
      "\u001b[39m\u001b[1m\u001b[36mINFO: \u001b[39m\u001b[22m\u001b[36mCloning cache of FixedPointNumbers from https://github.com/JuliaMath/FixedPointNumbers.jl.git\n",
      "\u001b[39m\u001b[1m\u001b[36mINFO: \u001b[39m\u001b[22m\u001b[36mCloning cache of FunctionalCollections from https://github.com/JuliaCollections/FunctionalCollections.jl.git\n",
      "\u001b[39m\u001b[1m\u001b[36mINFO: \u001b[39m\u001b[22m\u001b[36mCloning cache of GeometryTypes from https://github.com/JuliaGeometry/GeometryTypes.jl.git\n",
      "\u001b[39m\u001b[1m\u001b[36mINFO: \u001b[39m\u001b[22m\u001b[36mCloning cache of Hiccup from https://github.com/JunoLab/Hiccup.jl.git\n",
      "\u001b[39m\u001b[1m\u001b[36mINFO: \u001b[39m\u001b[22m\u001b[36mCloning cache of HttpCommon from https://github.com/JuliaWeb/HttpCommon.jl.git\n",
      "\u001b[39m\u001b[1m\u001b[36mINFO: \u001b[39m\u001b[22m\u001b[36mCloning cache of HttpParser from https://github.com/JuliaWeb/HttpParser.jl.git\n",
      "\u001b[39m\u001b[1m\u001b[36mINFO: \u001b[39m\u001b[22m\u001b[36mCloning cache of HttpServer from https://github.com/JuliaWeb/HttpServer.jl.git\n",
      "\u001b[39m\u001b[1m\u001b[36mINFO: \u001b[39m\u001b[22m\u001b[36mCloning cache of IterTools from https://github.com/JuliaCollections/IterTools.jl.git\n",
      "\u001b[39m\u001b[1m\u001b[36mINFO: \u001b[39m\u001b[22m\u001b[36mCloning cache of JSExpr from https://github.com/JuliaGizmos/JSExpr.jl.git\n",
      "\u001b[39m\u001b[1m\u001b[36mINFO: \u001b[39m\u001b[22m\u001b[36mCloning cache of Lazy from https://github.com/MikeInnes/Lazy.jl.git\n",
      "\u001b[39m\u001b[1m\u001b[36mINFO: \u001b[39m\u001b[22m\u001b[36mCloning cache of MacroTools from https://github.com/MikeInnes/MacroTools.jl.git\n",
      "\u001b[39m\u001b[1m\u001b[36mINFO: \u001b[39m\u001b[22m\u001b[36mCloning cache of MeshCat from https://github.com/rdeits/MeshCat.jl.git\n",
      "\u001b[39m\u001b[1m\u001b[36mINFO: \u001b[39m\u001b[22m\u001b[36mCloning cache of MsgPack from https://github.com/JuliaIO/MsgPack.jl.git\n",
      "\u001b[39m\u001b[1m\u001b[36mINFO: \u001b[39m\u001b[22m\u001b[36mCloning cache of Mux from https://github.com/JuliaWeb/Mux.jl.git\n",
      "\u001b[39m\u001b[1m\u001b[36mINFO: \u001b[39m\u001b[22m\u001b[36mCloning cache of Observables from https://github.com/JuliaGizmos/Observables.jl.git\n",
      "\u001b[39m\u001b[1m\u001b[36mINFO: \u001b[39m\u001b[22m\u001b[36mCloning cache of Parameters from https://github.com/mauro3/Parameters.jl.git\n",
      "\u001b[39m\u001b[1m\u001b[36mINFO: \u001b[39m\u001b[22m\u001b[36mCloning cache of Pidfile from https://github.com/vtjnash/Pidfile.jl.git\n",
      "\u001b[39m\u001b[1m\u001b[36mINFO: \u001b[39m\u001b[22m\u001b[36mCloning cache of Reexport from https://github.com/simonster/Reexport.jl.git\n",
      "\u001b[39m\u001b[1m\u001b[36mINFO: \u001b[39m\u001b[22m\u001b[36mCloning cache of Requires from https://github.com/MikeInnes/Requires.jl.git\n",
      "\u001b[39m\u001b[1m\u001b[36mINFO: \u001b[39m\u001b[22m\u001b[36mCloning cache of Rotations from https://github.com/FugroRoames/Rotations.jl.git\n",
      "\u001b[39m\u001b[1m\u001b[36mINFO: \u001b[39m\u001b[22m\u001b[36mCloning cache of StaticArrays from https://github.com/JuliaArrays/StaticArrays.jl.git\n",
      "\u001b[39m\u001b[1m\u001b[36mINFO: \u001b[39m\u001b[22m\u001b[36mCloning cache of URIParser from https://github.com/JuliaWeb/URIParser.jl.git\n",
      "\u001b[39m\u001b[1m\u001b[36mINFO: \u001b[39m\u001b[22m\u001b[36mCloning cache of WebIO from https://github.com/JuliaGizmos/WebIO.jl.git\n",
      "\u001b[39m\u001b[1m\u001b[36mINFO: \u001b[39m\u001b[22m\u001b[36mCloning cache of WebSockets from https://github.com/JuliaWeb/WebSockets.jl.git\n",
      "\u001b[39m\u001b[1m\u001b[36mINFO: \u001b[39m\u001b[22m\u001b[36mCloning cache of Widgets from https://github.com/piever/Widgets.jl.git\n",
      "\u001b[39m\u001b[1m\u001b[36mINFO: \u001b[39m\u001b[22m\u001b[36mInstalling AssetRegistry v0.0.2\n",
      "\u001b[39m\u001b[1m\u001b[36mINFO: \u001b[39m\u001b[22m\u001b[36mInstalling BinDeps v0.8.10\n",
      "\u001b[39m\u001b[1m\u001b[36mINFO: \u001b[39m\u001b[22m\u001b[36mInstalling ColorTypes v0.6.7\n",
      "\u001b[39m\u001b[1m\u001b[36mINFO: \u001b[39m\u001b[22m\u001b[36mInstalling Colors v0.8.2\n",
      "\u001b[39m\u001b[1m\u001b[36mINFO: \u001b[39m\u001b[22m\u001b[36mInstalling CoordinateTransformations v0.5.0\n",
      "\u001b[39m\u001b[1m\u001b[36mINFO: \u001b[39m\u001b[22m\u001b[36mInstalling DataStructures v0.8.4\n",
      "\u001b[39m\u001b[1m\u001b[36mINFO: \u001b[39m\u001b[22m\u001b[36mInstalling DocStringExtensions v0.4.6\n",
      "\u001b[39m\u001b[1m\u001b[36mINFO: \u001b[39m\u001b[22m\u001b[36mInstalling FixedPointNumbers v0.4.6\n",
      "\u001b[39m\u001b[1m\u001b[36mINFO: \u001b[39m\u001b[22m\u001b[36mInstalling FunctionalCollections v0.3.2\n",
      "\u001b[39m\u001b[1m\u001b[36mINFO: \u001b[39m\u001b[22m\u001b[36mInstalling GeometryTypes v0.4.6\n",
      "\u001b[39m\u001b[1m\u001b[36mINFO: \u001b[39m\u001b[22m\u001b[36mInstalling Hiccup v0.1.1\n",
      "\u001b[39m\u001b[1m\u001b[36mINFO: \u001b[39m\u001b[22m\u001b[36mInstalling HttpCommon v0.4.0\n",
      "\u001b[39m\u001b[1m\u001b[36mINFO: \u001b[39m\u001b[22m\u001b[36mInstalling HttpParser v0.4.0\n",
      "\u001b[39m\u001b[1m\u001b[36mINFO: \u001b[39m\u001b[22m\u001b[36mInstalling HttpServer v0.3.1\n",
      "\u001b[39m\u001b[1m\u001b[36mINFO: \u001b[39m\u001b[22m\u001b[36mInstalling IterTools v0.2.1\n",
      "\u001b[39m\u001b[1m\u001b[36mINFO: \u001b[39m\u001b[22m\u001b[36mInstalling JSExpr v0.2.2\n",
      "\u001b[39m\u001b[1m\u001b[36mINFO: \u001b[39m\u001b[22m\u001b[36mInstalling Lazy v0.12.1\n",
      "\u001b[39m\u001b[1m\u001b[36mINFO: \u001b[39m\u001b[22m\u001b[36mInstalling MacroTools v0.4.4\n",
      "\u001b[39m\u001b[1m\u001b[36mINFO: \u001b[39m\u001b[22m\u001b[36mInstalling MeshCat v0.3.0\n",
      "\u001b[39m\u001b[1m\u001b[36mINFO: \u001b[39m\u001b[22m\u001b[36mInstalling MsgPack v0.1.1\n",
      "\u001b[39m\u001b[1m\u001b[36mINFO: \u001b[39m\u001b[22m\u001b[36mInstalling Mux v0.3.1\n",
      "\u001b[39m\u001b[1m\u001b[36mINFO: \u001b[39m\u001b[22m\u001b[36mInstalling Observables v0.1.2\n",
      "\u001b[39m\u001b[1m\u001b[36mINFO: \u001b[39m\u001b[22m\u001b[36mInstalling Parameters v0.9.2\n",
      "\u001b[39m\u001b[1m\u001b[36mINFO: \u001b[39m\u001b[22m\u001b[36mInstalling Pidfile v1.0.0\n",
      "\u001b[39m\u001b[1m\u001b[36mINFO: \u001b[39m\u001b[22m\u001b[36mInstalling Reexport v0.1.0\n",
      "\u001b[39m\u001b[1m\u001b[36mINFO: \u001b[39m\u001b[22m\u001b[36mInstalling Requires v0.4.4\n",
      "\u001b[39m\u001b[1m\u001b[36mINFO: \u001b[39m\u001b[22m\u001b[36mInstalling Rotations v0.7.2\n",
      "\u001b[39m\u001b[1m\u001b[36mINFO: \u001b[39m\u001b[22m\u001b[36mInstalling StaticArrays v0.7.2\n",
      "\u001b[39m\u001b[1m\u001b[36mINFO: \u001b[39m\u001b[22m\u001b[36mInstalling URIParser v0.3.1\n",
      "\u001b[39m\u001b[1m\u001b[36mINFO: \u001b[39m\u001b[22m\u001b[36mInstalling WebIO v0.2.8\n",
      "\u001b[39m\u001b[1m\u001b[36mINFO: \u001b[39m\u001b[22m\u001b[36mInstalling WebSockets v0.5.0\n",
      "\u001b[39m\u001b[1m\u001b[36mINFO: \u001b[39m\u001b[22m\u001b[36mInstalling Widgets v0.2.5\n",
      "\u001b[39m\u001b[1m\u001b[36mINFO: \u001b[39m\u001b[22m\u001b[36mBuilding HttpParser\n",
      "\u001b[39m\u001b[1m\u001b[36mInfo: \u001b[39m\u001b[22m\u001b[36mAttempting to create directory /home/meszlenyilorant/.julia/v0.6/HttpParser/deps/downloads\n",
      "\u001b[39m\u001b[1m\u001b[36mInfo: \u001b[39m\u001b[22m\u001b[36mAttempting to create directory /home/meszlenyilorant/.julia/v0.6/HttpParser/deps/downloads\n",
      "\u001b[39m\u001b[1m\u001b[36mInfo: \u001b[39m\u001b[22m\u001b[36mDirectory /home/meszlenyilorant/.julia/v0.6/HttpParser/deps/downloads already exists\n",
      "\u001b[39m\u001b[1m\u001b[36mInfo: \u001b[39m\u001b[22m\u001b[36mDownloading file https://github.com/nodejs/http-parser/archive/v2.7.1.zip\n",
      "\u001b[39m  % Total    % Received % Xferd  Average Speed   Time    Time     Time  Current\n",
      "                                 Dload  Upload   Total   Spent    Left  Speed\n",
      "100   123    0   123    0     0    226      0 --:--:-- --:--:-- --:--:--   226\n",
      "100 55365    0 55365    0     0  43594      0 --:--:--  0:00:01 --:--:--  147k\n"
     ]
    },
    {
     "name": "stdout",
     "output_type": "stream",
     "text": [
      "Archive:  /home/meszlenyilorant/.julia/v0.6/HttpParser/deps/downloads/v2.7.1.zip\n",
      "feae95a3a69f111bc1897b9048d9acbc290992f9\n",
      "   creating: /home/meszlenyilorant/.julia/v0.6/HttpParser/deps/src/http-parser-2.7.1/\n",
      "  inflating: /home/meszlenyilorant/.julia/v0.6/HttpParser/deps/src/http-parser-2.7.1/.gitignore  \n",
      "  inflating: /home/meszlenyilorant/.julia/v0.6/HttpParser/deps/src/http-parser-2.7.1/.mailmap  \n",
      "  inflating: /home/meszlenyilorant/.julia/v0.6/HttpParser/deps/src/http-parser-2.7.1/.travis.yml  \n",
      "  inflating: /home/meszlenyilorant/.julia/v0.6/HttpParser/deps/src/http-parser-2.7.1/AUTHORS  \n",
      "  inflating: /home/meszlenyilorant/.julia/v0.6/HttpParser/deps/src/http-parser-2.7.1/LICENSE-MIT  \n",
      "  inflating: /home/meszlenyilorant/.julia/v0.6/HttpParser/deps/src/http-parser-2.7.1/Makefile  \n",
      "  inflating: /home/meszlenyilorant/.julia/v0.6/HttpParser/deps/src/http-parser-2.7.1/README.md  \n",
      "  inflating: /home/meszlenyilorant/.julia/v0.6/HttpParser/deps/src/http-parser-2.7.1/bench.c  \n",
      "   creating: /home/meszlenyilorant/.julia/v0.6/HttpParser/deps/src/http-parser-2.7.1/contrib/\n",
      "  inflating: /home/meszlenyilorant/.julia/v0.6/HttpParser/deps/src/http-parser-2.7.1/contrib/parsertrace.c  \n",
      "  inflating: /home/meszlenyilorant/.julia/v0.6/HttpParser/deps/src/http-parser-2.7.1/contrib/url_parser.c  \n",
      "  inflating: /home/meszlenyilorant/.julia/v0.6/HttpParser/deps/src/http-parser-2.7.1/http_parser.c  \n",
      "  inflating: /home/meszlenyilorant/.julia/v0.6/HttpParser/deps/src/http-parser-2.7.1/http_parser.gyp  \n",
      "  inflating: /home/meszlenyilorant/.julia/v0.6/HttpParser/deps/src/http-parser-2.7.1/http_parser.h  \n",
      "  inflating: /home/meszlenyilorant/.julia/v0.6/HttpParser/deps/src/http-parser-2.7.1/test.c  \n",
      "Hmm...  Looks like a unified diff to me...\n",
      "The text leading up to this was:\n",
      "--------------------------\n",
      "|--- a/http_parser.c\n",
      "|+++ b/http_parser.c\n",
      "--------------------------\n"
     ]
    },
    {
     "name": "stderr",
     "output_type": "stream",
     "text": [
      "\u001b[1m\u001b[36mInfo: \u001b[39m\u001b[22m\u001b[36mDone downloading file https://github.com/nodejs/http-parser/archive/v2.7.1.zip\n",
      "\u001b[39m\u001b[1m\u001b[36mInfo: \u001b[39m\u001b[22m\u001b[36mAttempting to create directory /home/meszlenyilorant/.julia/v0.6/HttpParser/deps\n",
      "\u001b[39m\u001b[1m\u001b[36mInfo: \u001b[39m\u001b[22m\u001b[36mDirectory /home/meszlenyilorant/.julia/v0.6/HttpParser/deps already exists\n",
      "\u001b[39m"
     ]
    },
    {
     "name": "stdout",
     "output_type": "stream",
     "text": [
      "patching file http_parser.c\n",
      "Using Plan A...\n",
      "Hunk #1 succeeded at 1816.\n",
      "Hunk #2 succeeded at 2376.\n",
      "done\n",
      "make: Verzeichnis „/home/meszlenyilorant/.julia/v0.6/HttpParser/deps/src/http-parser-2.7.1“ wird betreten\n",
      "cc  -I. -DHTTP_PARSER_STRICT=0  -Wall -Wextra -Werror -O3  -fPIC -c http_parser.c -o libhttp_parser.o\n"
     ]
    },
    {
     "name": "stderr",
     "output_type": "stream",
     "text": [
      "\u001b[1m\u001b[36mInfo: \u001b[39m\u001b[22m\u001b[36mAttempting to create directory /home/meszlenyilorant/.julia/v0.6/HttpParser/deps/usr/lib\n",
      "\u001b[39m\u001b[1m\u001b[36mInfo: \u001b[39m\u001b[22m\u001b[36mChanging directory to /home/meszlenyilorant/.julia/v0.6/HttpParser/deps/src/http-parser-2.7.1\n",
      "\u001b[39m\u001b[1m\u001b[36mInfo: \u001b[39m\u001b[22m\u001b[36mChanging directory to /home/meszlenyilorant/.julia/v0.6/HttpParser/deps/src/http-parser-2.7.1\n",
      "\u001b[39m\u001b[1m\u001b[36mInfo: \u001b[39m\u001b[22m\u001b[36mChanging directory to /home/meszlenyilorant/.julia/v0.6/HttpParser/deps/src\n",
      "\u001b[39m\u001b[1m\u001b[36mInfo: \u001b[39m\u001b[22m\u001b[36mAttempting to create directory /home/meszlenyilorant/.julia/v0.6/HttpParser/deps/usr/lib\n",
      "\u001b[39m\u001b[1m\u001b[36mInfo: \u001b[39m\u001b[22m\u001b[36mDirectory /home/meszlenyilorant/.julia/v0.6/HttpParser/deps/usr/lib already exists\n",
      "\u001b[39m\u001b[1m\u001b[36mInfo: \u001b[39m\u001b[22m\u001b[36mChanging directory to /home/meszlenyilorant/.julia/v0.6/HttpParser/deps/src\n",
      "\u001b[39m"
     ]
    },
    {
     "name": "stdout",
     "output_type": "stream",
     "text": [
      "cc  -shared -Wl,-soname=libhttp_parser.so -o libhttp_parser.so libhttp_parser.o\n",
      "make: Verzeichnis „/home/meszlenyilorant/.julia/v0.6/HttpParser/deps/src/http-parser-2.7.1“ wird verlassen\n"
     ]
    },
    {
     "name": "stderr",
     "output_type": "stream",
     "text": [
      "\u001b[1m\u001b[36mInfo: \u001b[39m\u001b[22m\u001b[36mChanging directory to /home/meszlenyilorant/.julia/v0.6/HttpParser/deps/src\n",
      "\u001b[39m\u001b[1m\u001b[36mINFO: \u001b[39m\u001b[22m\u001b[36mBuilding MbedTLS\n",
      "\u001b[39m\u001b[1m\u001b[36mINFO: \u001b[39m\u001b[22m\u001b[36mBuilding WebIO\n",
      "\u001b[39m\u001b[1m\u001b[36mINFO: \u001b[39m\u001b[22m\u001b[36mBuilding MeshCat\n",
      "\u001b[39m  % Total    % Received % Xferd  Average Speed   Time    Time     Time  Current\n",
      "                                 Dload  Upload   Total   Spent    Left  Speed\n",
      "100   153    0   153    0     0    303      0 --:--:-- --:--:-- --:--:--   303\n",
      "  0     0    0     0    0     0      0      0 --:--:-- --:--:-- --:--:--     0"
     ]
    },
    {
     "name": "stdout",
     "output_type": "stream",
     "text": [
      "Archive:  /tmp/tmphthpVz/meshcat.zip\n",
      "b34c2668c94675aa582c5dc2024fdff052db9511\n",
      "   creating: /tmp/tmphthpVz/meshcat-b34c2668c94675aa582c5dc2024fdff052db9511/\n",
      " extracting: /tmp/tmphthpVz/meshcat-b34c2668c94675aa582c5dc2024fdff052db9511/.gitignore  \n",
      " extracting: /tmp/tmphthpVz/meshcat-b34c2668c94675aa582c5dc2024fdff052db9511/.gitmodules  \n",
      "  inflating: /tmp/tmphthpVz/meshcat-b34c2668c94675aa582c5dc2024fdff052db9511/LICENSE  \n",
      "  inflating: /tmp/tmphthpVz/meshcat-b34c2668c94675aa582c5dc2024fdff052db9511/Readme.md  \n",
      "   creating: /tmp/tmphthpVz/meshcat-b34c2668c94675aa582c5dc2024fdff052db9511/data/\n",
      "  inflating: /tmp/tmphthpVz/meshcat-b34c2668c94675aa582c5dc2024fdff052db9511/data/HeadTextureMultisense.png  \n",
      "  inflating: /tmp/tmphthpVz/meshcat-b34c2668c94675aa582c5dc2024fdff052db9511/data/head_multisense.obj  \n",
      "   creating: /tmp/tmphthpVz/meshcat-b34c2668c94675aa582c5dc2024fdff052db9511/dist/\n",
      "  inflating: /tmp/tmphthpVz/meshcat-b34c2668c94675aa582c5dc2024fdff052db9511/dist/animation-dev.html  \n",
      "  inflating: /tmp/tmphthpVz/meshcat-b34c2668c94675aa582c5dc2024fdff052db9511/dist/camera-dev.html  \n",
      "  inflating: /tmp/tmphthpVz/meshcat-b34c2668c94675aa582c5dc2024fdff052db9511/dist/index.html  \n",
      "  inflating: /tmp/tmphthpVz/meshcat-b34c2668c94675aa582c5dc2024fdff052db9511/dist/main.min.js  \n",
      "  inflating: /tmp/tmphthpVz/meshcat-b34c2668c94675aa582c5dc2024fdff052db9511/package.json  \n",
      "   creating: /tmp/tmphthpVz/meshcat-b34c2668c94675aa582c5dc2024fdff052db9511/src/\n",
      "  inflating: /tmp/tmphthpVz/meshcat-b34c2668c94675aa582c5dc2024fdff052db9511/src/LoaderSupport.js  \n",
      "  inflating: /tmp/tmphthpVz/meshcat-b34c2668c94675aa582c5dc2024fdff052db9511/src/OBJLoader2.js  \n",
      "  inflating: /tmp/tmphthpVz/meshcat-b34c2668c94675aa582c5dc2024fdff052db9511/src/OrbitControls.js  \n",
      "  inflating: /tmp/tmphthpVz/meshcat-b34c2668c94675aa582c5dc2024fdff052db9511/src/index.js  \n",
      "  inflating: /tmp/tmphthpVz/meshcat-b34c2668c94675aa582c5dc2024fdff052db9511/webpack.config.js  \n",
      "  inflating: /tmp/tmphthpVz/meshcat-b34c2668c94675aa582c5dc2024fdff052db9511/yarn.lock  \n"
     ]
    },
    {
     "name": "stderr",
     "output_type": "stream",
     "text": [
      "100  361k    0  361k    0     0   244k      0 --:--:--  0:00:01 --:--:--  418k\n",
      "\u001b[1m\u001b[36mINFO: \u001b[39m\u001b[22m\u001b[36mPackage database updated\n",
      "\u001b[39m\u001b[1m\u001b[36mINFO: \u001b[39m\u001b[22m\u001b[36mPrecompiling module MeshCat.\n",
      "\u001b[39m"
     ]
    }
   ],
   "source": [
    "Pkg.add(\"MeshCat\")\n",
    "using MeshCat, GeometryTypes, CoordinateTransformations"
   ]
  },
  {
   "cell_type": "code",
   "execution_count": 2,
   "metadata": {},
   "outputs": [
    {
     "name": "stderr",
     "output_type": "stream",
     "text": [
      "\u001b[1m\u001b[36mINFO: \u001b[39m\u001b[22m\u001b[36mServing MeshCat visualizer at http://127.0.0.1:8700\n",
      "\u001b[39m"
     ]
    },
    {
     "name": "stdout",
     "output_type": "stream",
     "text": [
      "Listening on 0.0.0.0:8700...\n"
     ]
    }
   ],
   "source": [
    "vis = Visualizer()"
   ]
  },
  {
   "cell_type": "code",
   "execution_count": 1,
   "metadata": {},
   "outputs": [],
   "source": [
    "## To open the visualizer in a new browser tab, do: \n",
    "# open(vis)\n",
    "\n",
    "## To open the visualizer inside this jupyter notebook, do: \n",
    "IJuliaCell(vis)\n",
    "\n",
    "## To open this visualizer in a standalone window, do:\n",
    "# using Blink\n",
    "# AtomShell.isinstalled() || AtomShell.install()\n",
    "# open(vis, Window())"
   ]
  },
  {
   "cell_type": "code",
   "execution_count": 20,
   "metadata": {},
   "outputs": [
    {
     "data": {
      "text/plain": [
       "MeshCat Visualizer with path /meshcat/box1"
      ]
     },
     "execution_count": 20,
     "metadata": {},
     "output_type": "execute_result"
    }
   ],
   "source": [
    "setobject!(vis[:box1], \n",
    "    HyperRectangle(Vec(0., 0, 0), Vec(0.1, 0.2, 0.3)))"
   ]
  },
  {
   "cell_type": "markdown",
   "metadata": {},
   "source": [
    "### Building an Animation\n",
    "\n",
    "We construct an animation by first creating a blank `Animation()` object. We can then use the `atframe` function to set properties or transforms of the animation at specific frames of the animation. Three.js will automatically interpolate between whatever values we provide. \n",
    "\n",
    "For example, let's animate moving the box from [0, 0, 0] to [0, 1, 0]: "
   ]
  },
  {
   "cell_type": "code",
   "execution_count": 21,
   "metadata": {},
   "outputs": [],
   "source": [
    "anim = Animation()\n",
    "\n",
    "atframe(anim, vis, 0) do frame\n",
    "    # `frame` behaves like a Visualizer, in that we can\n",
    "    # call `settransform!` and `setprop!` on it, but\n",
    "    # it just stores information inside the animation\n",
    "    # rather than changing the current visualization\n",
    "    settransform!(frame[:box1], Translation(0., 0, 0))\n",
    "end\n",
    "\n",
    "atframe(anim, vis, 30) do frame\n",
    "    settransform!(frame[:box1], Translation(0., 1, 0))\n",
    "end\n",
    "\n",
    "# `setanimation!()` actually sends the animation to the\n",
    "# viewer. By default, the viewer will play the animation\n",
    "# right away. To avoid that, you can also pass `play=false`. \n",
    "setanimation!(vis, anim)"
   ]
  },
  {
   "cell_type": "markdown",
   "metadata": {},
   "source": [
    "You should see the box slide 1 meter to the right in the viewer. If you missed the animation, you can run it again from the viewer. Click \"Open Controls\", find the \"Animations\" section, and click \"play\". "
   ]
  },
  {
   "cell_type": "markdown",
   "metadata": {},
   "source": [
    "### Animating the Camera\n",
    "\n",
    "The camera is just another object in the MeshCat scene. To set its transform, we just need to index into the visualizer with the right path (note the leading `/`):"
   ]
  },
  {
   "cell_type": "code",
   "execution_count": 22,
   "metadata": {},
   "outputs": [
    {
     "data": {
      "text/plain": [
       "MeshCat Visualizer with path /Cameras/default"
      ]
     },
     "execution_count": 22,
     "metadata": {},
     "output_type": "execute_result"
    }
   ],
   "source": [
    "settransform!(vis[\"/Cameras/default\"], Translation(0, 0, 1))"
   ]
  },
  {
   "cell_type": "markdown",
   "metadata": {},
   "source": [
    "To animate the camera, we just have to do that same kind of `settransform!` to individual frames in an animation: "
   ]
  },
  {
   "cell_type": "code",
   "execution_count": 23,
   "metadata": {},
   "outputs": [],
   "source": [
    "anim = Animation()\n",
    "\n",
    "atframe(anim, vis, 0) do frame\n",
    "    settransform!(frame[\"/Cameras/default\"], Translation(0., 0, 0))\n",
    "end\n",
    "\n",
    "atframe(anim, vis, 30) do frame\n",
    "    settransform!(frame[\"/Cameras/default\"], Translation(0., 0, 1))\n",
    "end\n",
    " \n",
    "setanimation!(vis, anim)"
   ]
  },
  {
   "cell_type": "markdown",
   "metadata": {},
   "source": [
    "We can also animate object properties. For example, let's animate the camera's `zoom` property to smoothly zoom out and then back in. Note that to do this, we have to access a deeper path in the visualizer to get to the actual camera object. For more information, see: https://github.com/rdeits/meshcat#camera-control"
   ]
  },
  {
   "cell_type": "code",
   "execution_count": 24,
   "metadata": {},
   "outputs": [],
   "source": [
    "anim = Animation()\n",
    "\n",
    "atframe(anim, vis, 0) do frame\n",
    "    setprop!(frame[\"/Cameras/default/rotated/<object>\"], \"zoom\", 1)\n",
    "end\n",
    "\n",
    "atframe(anim, vis, 30) do frame\n",
    "    setprop!(frame[\"/Cameras/default/rotated/<object>\"], \"zoom\", 0.5)\n",
    "end\n",
    "\n",
    "atframe(anim, vis, 60) do frame\n",
    "    setprop!(frame[\"/Cameras/default/rotated/<object>\"], \"zoom\", 1)\n",
    "end\n",
    " \n",
    "setanimation!(vis, anim)"
   ]
  },
  {
   "cell_type": "markdown",
   "metadata": {},
   "source": [
    "### Recording an Animation\n",
    "\n",
    "To record an animation at a smooth, fixed frame rate, click on \"Open Controls\" in the viewer, and then go to \"Animations\" -> \"default\" -> \"Recording\" -> \"record\". This will play the entire animation, recording every frame and then let you download the resulting frames to your computer. \n",
    "\n",
    "To record activity in the MeshCat window that isn't a MeshCat animation, we suggest using a screen-capture tool like Quicktime for macOS or RecordMyDesktop for Linux. "
   ]
  },
  {
   "cell_type": "markdown",
   "metadata": {},
   "source": [
    "### Converting the Animation into a Video\n",
    "\n",
    "Currently, meshcat can only save an animation as a `.tar` file consisting of a  list of `.png` images, one for each frame. To convert that into a video, you will need to install the `ffmpeg` program, and then you can run: "
   ]
  },
  {
   "cell_type": "code",
   "execution_count": null,
   "metadata": {},
   "outputs": [],
   "source": [
    "# MeshCat.convert_frames_to_video(\"/home/rdeits/Downloads/meshcat_1528401494656.tar\", overwrite=true)"
   ]
  },
  {
   "cell_type": "code",
   "execution_count": null,
   "metadata": {},
   "outputs": [],
   "source": []
  }
 ],
 "metadata": {
  "kernelspec": {
   "display_name": "Julia 0.6.4",
   "language": "julia",
   "name": "julia-0.6"
  },
  "language_info": {
   "file_extension": ".jl",
   "mimetype": "application/julia",
   "name": "julia",
   "version": "0.6.4"
  }
 },
 "nbformat": 4,
 "nbformat_minor": 2
}
